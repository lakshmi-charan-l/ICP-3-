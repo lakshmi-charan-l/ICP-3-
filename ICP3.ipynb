{
 "cells": [
  {
   "cell_type": "code",
   "execution_count": 1,
   "id": "53fcede3",
   "metadata": {},
   "outputs": [
    {
     "name": "stdout",
     "output_type": "stream",
     "text": [
      "Total number of employees: 3\n",
      "Average salary of employees: 83333.33333333333\n"
     ]
    }
   ],
   "source": [
    "class Employee:\n",
    "    num_employees = 0  # Class variable to count the number of Employees\n",
    "\n",
    "    def __init__(self, name, family, salary, department):\n",
    "        self.name = name\n",
    "        self.family = family\n",
    "        self.salary = salary\n",
    "        self.department = department\n",
    "        Employee.num_employees += 1\n",
    "\n",
    "    def average_salary(self, employees):\n",
    "        total_salary = sum(emp.salary for emp in employees)\n",
    "        return total_salary / len(employees) if len(employees) > 0 else 0\n",
    "\n",
    "class FulltimeEmployee(Employee):\n",
    "    def __init__(self, name, family, salary, department):\n",
    "        super().__init__(name, family, salary, department)\n",
    "\n",
    "# Create instances of Employee and FulltimeEmployee\n",
    "employee1 = Employee(\"Lakshmi\", \"Family Lakshmi\", 80000, \"Manager\")\n",
    "employee2 = Employee(\"Ankitha\", \"Family Ankitha\", 80000, \"HR\")\n",
    "\n",
    "fulltime_employee1 = FulltimeEmployee(\"Nilesh\", \"Family Nilesh\", 90000, \"IT\")\n",
    "\n",
    "# Call member functions\n",
    "employees_list = [employee1, employee2, fulltime_employee1]\n",
    "avg_salary = employee1.average_salary(employees_list)\n",
    "\n",
    "print(f\"Total number of employees: {Employee.num_employees}\")\n",
    "print(f\"Average salary of employees: {avg_salary}\")\n"
   ]
  },
  {
   "cell_type": "code",
   "execution_count": 2,
   "id": "9995ec79",
   "metadata": {},
   "outputs": [
    {
     "name": "stdout",
     "output_type": "stream",
     "text": [
      "Original array:\n",
      "[ 6.38737752  4.0446485  16.42472388  0.          1.07066676  0.\n",
      "  4.50495011  2.25052736  6.52379036 10.31269162 15.40293418 17.97733671\n",
      " 12.13203833 17.14852608  0.          0.          5.17263824 13.19926304\n",
      "  6.04215902 14.94539742]\n",
      "\n",
      "Reshaped array:\n",
      "[[ 6.38737752  4.0446485  16.42472388  0.          1.07066676]\n",
      " [ 0.          4.50495011  2.25052736  6.52379036 10.31269162]\n",
      " [15.40293418 17.97733671 12.13203833 17.14852608  0.        ]\n",
      " [ 0.          5.17263824 13.19926304  6.04215902 14.94539742]]\n"
     ]
    }
   ],
   "source": [
    "import numpy as np\n",
    "\n",
    "# Create a random vector of size 20 with floats in the range 1-20\n",
    "random_vector = np.random.uniform(1, 20, 20)\n",
    "\n",
    "# Reshape the array to 4 by 5\n",
    "reshaped_array = random_vector.reshape(4, 5)\n",
    "\n",
    "# Replace the max in each row by 0 along axis=1\n",
    "reshaped_array[np.arange(4), reshaped_array.argmax(axis=1)] = 0\n",
    "\n",
    "print(\"Original array:\")\n",
    "print(random_vector)\n",
    "print(\"\\nReshaped array:\")\n",
    "print(reshaped_array)\n"
   ]
  },
  {
   "cell_type": "code",
   "execution_count": null,
   "id": "2df07ce4",
   "metadata": {},
   "outputs": [],
   "source": []
  }
 ],
 "metadata": {
  "kernelspec": {
   "display_name": "Python 3 (ipykernel)",
   "language": "python",
   "name": "python3"
  },
  "language_info": {
   "codemirror_mode": {
    "name": "ipython",
    "version": 3
   },
   "file_extension": ".py",
   "mimetype": "text/x-python",
   "name": "python",
   "nbconvert_exporter": "python",
   "pygments_lexer": "ipython3",
   "version": "3.11.5"
  }
 },
 "nbformat": 4,
 "nbformat_minor": 5
}
